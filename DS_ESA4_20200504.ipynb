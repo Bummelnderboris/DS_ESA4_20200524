{
 "cells": [
  {
   "cell_type": "code",
   "execution_count": 1,
   "metadata": {},
   "outputs": [
    {
     "name": "stdout",
     "output_type": "stream",
     "text": [
      "       Name     People     Area   BIP Currency\n",
      "0   Germany   82521653   357385  3466      EUR\n",
      "1     Japan  126045000   377835  4938      YEN\n",
      "2    Canada   36503097  9984670  1529      CAD\n",
      "3     Italy   60501718   301338  1850      EUR\n",
      "4  Brazilia  208360000  8515770  1798     REAL\n",
      "\n"
     ]
    }
   ],
   "source": [
    "# the print function is used because the code was written in vscode, due to the cicumstance, that auto complete is not working for me in jupyter notebooks.\n",
    "\n",
    "import pandas as pd\n",
    "import numpy as np\n",
    "\n",
    "###   Load the countries.csv directly via URL import into your panda data frame!\n",
    "country_list = pd.read_csv('https://raw.githubusercontent.com/edlich/eternalrepo/master/DS-WAHLFACH/countries.csv', dtype = {\"People\":\"int\", \"BIP\":\"int\"})\n",
    "print(country_list, end=\"\\n\\n\")"
   ]
  },
  {
   "cell_type": "code",
   "execution_count": 2,
   "metadata": {},
   "outputs": [
    {
     "name": "stdout",
     "output_type": "stream",
     "text": [
      "             People          Area         BIP\n",
      "count  5.000000e+00  5.000000e+00     5.00000\n",
      "mean   1.027863e+08  3.907400e+06  2716.20000\n",
      "std    6.759970e+07  4.904957e+06  1457.86083\n",
      "min    3.650310e+07  3.013380e+05  1529.00000\n",
      "25%    6.050172e+07  3.573850e+05  1798.00000\n",
      "50%    8.252165e+07  3.778350e+05  1850.00000\n",
      "75%    1.260450e+08  8.515770e+06  3466.00000\n",
      "max    2.083600e+08  9.984670e+06  4938.00000\n",
      "       Name     People     Area   BIP Currency\n",
      "1     Japan  126045000   377835  4938      YEN\n",
      "2    Canada   36503097  9984670  1529      CAD\n",
      "3     Italy   60501718   301338  1850      EUR\n",
      "4  Brazilia  208360000  8515770  1798     REAL\n"
     ]
    }
   ],
   "source": [
    "###    Display some basic information as rows, columns and some basic statistical info.\n",
    "# x = country_list.iloc[:,[0,1]]\n",
    "# print (x,\"2\")\n",
    "print(country_list.describe())\n",
    "###    Show the last 4 rows of the data frame.\n",
    "x = country_list[-4:]\n",
    "print(x)"
   ]
  },
  {
   "cell_type": "code",
   "execution_count": 3,
   "metadata": {},
   "outputs": [
    {
     "name": "stdout",
     "output_type": "stream",
     "text": [
      "      Name    People    Area   BIP Currency\n",
      "0  Germany  82521653  357385  3466      EUR\n",
      "3    Italy  60501718  301338  1850      EUR\n"
     ]
    }
   ],
   "source": [
    "###    Show all the row of countries who have the EURO\n",
    "print(country_list[country_list['Currency'] == \"EUR\"])"
   ]
  },
  {
   "cell_type": "code",
   "execution_count": 4,
   "metadata": {},
   "outputs": [
    {
     "name": "stdout",
     "output_type": "stream",
     "text": [
      "       Name Currency\n",
      "0   Germany      EUR\n",
      "1     Japan      YEN\n",
      "2    Canada      CAD\n",
      "3     Italy      EUR\n",
      "4  Brazilia     REAL\n"
     ]
    }
   ],
   "source": [
    "###    Show only name and Currency in a new data frame\n",
    "d = country_list.iloc[:,[0,-1]]\n",
    "print(d)"
   ]
  },
  {
   "cell_type": "code",
   "execution_count": 5,
   "metadata": {},
   "outputs": [
    {
     "name": "stdout",
     "output_type": "stream",
     "text": [
      "      Name     People    Area   BIP Currency\n",
      "0  Germany   82521653  357385  3466      EUR\n",
      "1    Japan  126045000  377835  4938      YEN \n",
      " The BIP is in Milliarden USD \n"
     ]
    }
   ],
   "source": [
    "###    Show only the rows/countries that have more than 2000 BIP (it is in Milliarden USD Bruttoinlandsprodukt)\n",
    "print(country_list[country_list.BIP > 2000], \"\\n\", \"The BIP is in Milliarden USD \")\n"
   ]
  },
  {
   "cell_type": "code",
   "execution_count": 6,
   "metadata": {},
   "outputs": [
    {
     "name": "stdout",
     "output_type": "stream",
     "text": [
      "      Name     People    Area   BIP Currency\n",
      "0  Germany   82521653  357385  3466      EUR\n",
      "1    Japan  126045000  377835  4938      YEN\n",
      "3    Italy   60501718  301338  1850      EUR\n"
     ]
    }
   ],
   "source": [
    "###    Select all countries where with inhabitants between 50 and 150 Mio\n",
    "print(country_list.loc[(country_list[\"People\"] > 50000000) & (country_list[\"People\"] < 150000000)])\n"
   ]
  },
  {
   "cell_type": "code",
   "execution_count": 7,
   "metadata": {},
   "outputs": [
    {
     "name": "stdout",
     "output_type": "stream",
     "text": [
      "       Name     People     Area   Bip Currency\n",
      "0   Germany   82521653   357385  3466      EUR\n",
      "1     Japan  126045000   377835  4938      YEN\n",
      "2    Canada   36503097  9984670  1529      CAD\n",
      "3     Italy   60501718   301338  1850      EUR\n",
      "4  Brazilia  208360000  8515770  1798     REAL\n"
     ]
    }
   ],
   "source": [
    "###    Change BIP to Bip\n",
    "country_list = country_list.rename(columns={\"BIP\":\"Bip\"})\n",
    "print(country_list)"
   ]
  },
  {
   "cell_type": "code",
   "execution_count": 8,
   "metadata": {},
   "outputs": [
    {
     "name": "stdout",
     "output_type": "stream",
     "text": [
      "Bip Sum: 13581\n"
     ]
    }
   ],
   "source": [
    "###    Calculate the Bip sum\n",
    "print(\"Bip Sum:\" , country_list[\"Bip\"].sum())"
   ]
  },
  {
   "cell_type": "code",
   "execution_count": 9,
   "metadata": {},
   "outputs": [
    {
     "name": "stdout",
     "output_type": "stream",
     "text": [
      "Average inhabitans: 102786293.6\n"
     ]
    }
   ],
   "source": [
    "###    Calculate the average people of all countries\n",
    "print(\"Average inhabitans:\", country_list[\"People\"].mean())\n"
   ]
  },
  {
   "cell_type": "code",
   "execution_count": 10,
   "metadata": {},
   "outputs": [
    {
     "name": "stdout",
     "output_type": "stream",
     "text": [
      "       Name     People     Area   Bip Currency\n",
      "4  Brazilia  208360000  8515770  1798     REAL\n",
      "2    Canada   36503097  9984670  1529      CAD\n",
      "0   Germany   82521653   357385  3466      EUR\n",
      "3     Italy   60501718   301338  1850      EUR\n",
      "1     Japan  126045000   377835  4938      YEN\n"
     ]
    }
   ],
   "source": [
    "###    Sort by name alphabetically\n",
    "print(country_list.sort_values(by=[\"Name\"], ascending=[True]))"
   ]
  },
  {
   "cell_type": "code",
   "execution_count": 11,
   "metadata": {},
   "outputs": [
    {
     "name": "stdout",
     "output_type": "stream",
     "text": [
      "       Name     People   Area   Bip Currency\n",
      "0   Germany   82521653  SMALL  3466      EUR\n",
      "1     Japan  126045000  SMALL  4938      YEN\n",
      "2    Canada   36503097    BIG  1529      CAD\n",
      "3     Italy   60501718  SMALL  1850      EUR\n",
      "4  Brazilia  208360000    BIG  1798     REAL\n"
     ]
    }
   ],
   "source": [
    "###    Create a new data frame from the original where the area is changed as follows: all countries with > 1000000 get BIG and <= 1000000 get SMALL in the cell replaced!\n",
    "\n",
    "new_country_list = country_list.copy()\n",
    "new_country_list['Area'] = np.where(new_country_list['Area']>1000000, 'BIG', 'SMALL')\n",
    "print(new_country_list)"
   ]
  },
  {
   "cell_type": "code",
   "execution_count": null,
   "metadata": {},
   "outputs": [],
   "source": []
  },
  {
   "cell_type": "code",
   "execution_count": 12,
   "metadata": {},
   "outputs": [
    {
     "name": "stdout",
     "output_type": "stream",
     "text": [
      "[[b'Name' b'People' b'Area' b'BIP' b'Currency']\n",
      " [b'Germany' b'82521653' b'357385' b'3466' b'EUR']\n",
      " [b'Japan' b'126045000' b'377835' b'4938' b'YEN']\n",
      " [b'Canada' b'36503097' b'9984670' b'1529' b'CAD']\n",
      " [b'Italy' b'60501718' b'301338' b'1850' b'EUR']\n",
      " [b'Brazilia' b'208360000' b'8515770' b'1798' b'REAL']]\n",
      "[[b'Japan' b'126045000' b'377835' b'4938' b'YEN']\n",
      " [b'Canada' b'36503097' b'9984670' b'1529' b'CAD']\n",
      " [b'Italy' b'60501718' b'301338' b'1850' b'EUR']\n",
      " [b'Brazilia' b'208360000' b'8515770' b'1798' b'REAL']] Last 4 Rows\n",
      "[[b'Germany' b'82521653' b'357385' b'3466' b'EUR']\n",
      " [b'Italy' b'60501718' b'301338' b'1850' b'EUR']]\n",
      "[[b'Name' b'Currency']\n",
      " [b'Germany' b'EUR']\n",
      " [b'Japan' b'YEN']\n",
      " [b'Canada' b'CAD']\n",
      " [b'Italy' b'EUR']\n",
      " [b'Brazilia' b'REAL']]\n",
      "[True, True, False, False, False]\n",
      "[b'Name' b'People' b'Area' b'BIP' b'Currency'] \n",
      " [[b'Germany' b'82521653' b'357385' b'3466' b'EUR']\n",
      " [b'Japan' b'126045000' b'377835' b'4938' b'YEN']]\n"
     ]
    }
   ],
   "source": [
    "# Numpy\n",
    "# I started doin the exercices with numpy only, but wasn't sure wich one we shall use or if both or depending on the task, so here are some numpy versions as well\n",
    "\n",
    "#\"I read the first X (X>=25) exersises\" ;-)\n",
    "\n",
    "import numpy as np\n",
    "\n",
    "##Load the countries.csv directly via URL import into your panda data from\n",
    "url = 'https://raw.githubusercontent.com/edlich/eternalrepo/master/DS-WAHLFACH/countries.csv'\n",
    "data_set = np.genfromtxt(url, delimiter=',', dtype='object')\n",
    "\n",
    "##Display some basic information as rows, columns and some basic statistical info.\n",
    "print(data_set)\n",
    "\n",
    "##Show the last 4 rows of the data frame.\n",
    "print(data_set[-4:], \"Last 4 Rows\")\n",
    "\n",
    "##Show all the row of countries who have the EURO\n",
    "eur_cur_bool = [row[-1].decode('utf-8') == \"EUR\" for row in data_set]\n",
    "eur_cur = data_set[eur_cur_bool]\n",
    "print(eur_cur)\n",
    "\n",
    "##Show only name and Currency in a new data frame\n",
    "name_and_cur = data_set[:,[0,-1]]\n",
    "print(name_and_cur)\n",
    "\n",
    "        ###MAKE IT DYNAMIC\n",
    "\n",
    "##Show only the rows/countries that have more than 2000 BIP (it is in Milliarden USD Bruttoinlandsprodukt)\n",
    "bool_arr = [int(row[3].decode('utf-8')) > 2000 for row in data_set[1:]]\n",
    "print(bool_arr)\n",
    "data = data_set[1:]\n",
    "rich_bitch = data[bool_arr]\n",
    "\n",
    "print(data_set[0], \"\\n\",  rich_bitch)\n"
   ]
  },
  {
   "cell_type": "code",
   "execution_count": null,
   "metadata": {},
   "outputs": [],
   "source": []
  },
  {
   "cell_type": "code",
   "execution_count": null,
   "metadata": {},
   "outputs": [],
   "source": []
  }
 ],
 "metadata": {
  "kernelspec": {
   "display_name": "Python 3",
   "language": "python",
   "name": "python3"
  },
  "language_info": {
   "codemirror_mode": {
    "name": "ipython",
    "version": 3
   },
   "file_extension": ".py",
   "mimetype": "text/x-python",
   "name": "python",
   "nbconvert_exporter": "python",
   "pygments_lexer": "ipython3",
   "version": "3.7.3"
  }
 },
 "nbformat": 4,
 "nbformat_minor": 2
}
